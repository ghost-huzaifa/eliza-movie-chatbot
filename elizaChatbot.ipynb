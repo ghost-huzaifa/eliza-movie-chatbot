{
 "cells": [
  {
   "cell_type": "markdown",
   "metadata": {},
   "source": [
    "## Import Libraries"
   ]
  },
  {
   "cell_type": "code",
   "execution_count": null,
   "metadata": {},
   "outputs": [],
   "source": [
    "import re\n",
    "import random"
   ]
  },
  {
   "cell_type": "code",
   "execution_count": null,
   "metadata": {},
   "outputs": [],
   "source": [
    "genres = {\n",
    "        \"action\": [\"Mad Max: Fury Road\", \"John Wick\", \"Die Hard\", \"Gladiator\", \"The Dark Knight\", \"Avengers: Endgame\"],\n",
    "        \"comedy\": [\"The Hangover\", \"Superbad\", \"Step Brothers\", \"Monty Python and the Holy Grail\", \"Dumb and Dumber\", \"Bridesmaids\"],\n",
    "        \"horror\": [\"The Conjuring\", \"Hereditary\", \"Get Out\", \"It\", \"A Quiet Place\", \"The Exorcist\"],\n",
    "        \"sci-fi\": [\"Inception\", \"The Matrix\", \"Interstellar\", \"Blade Runner 2049\", \"Dune\", \"Arrival\"],\n",
    "        \"romance\": [\"The Notebook\", \"La La Land\", \"Pride & Prejudice\", \"Titanic\", \"Crazy Rich Asians\", \"Me Before You\"],\n",
    "        \"drama\": [\"The Shawshank Redemption\", \"Forrest Gump\", \"The Godfather\", \"Schindler's List\", \"Green Book\", \"A Beautiful Mind\"],\n",
    "        \"fantasy\": [\"The Lord of the Rings\", \"Harry Potter\", \"The Hobbit\", \"Pan's Labyrinth\", \"The Shape of Water\", \"Stardust\"],\n",
    "        \"thriller\": [\"Se7en\", \"Gone Girl\", \"Shutter Island\", \"Prisoners\", \"The Girl with the Dragon Tattoo\", \"No Country for Old Men\"],\n",
    "        \"animation\": [\"Toy Story\", \"Shrek\", \"Spirited Away\", \"Coco\", \"Frozen\", \"How to Train Your Dragon\"],\n",
    "        \"documentary\": [\"The Social Dilemma\", \"13th\", \"Won't You Be My Neighbor?\", \"Free Solo\", \"Making a Murderer\", \"Our Planet\"]\n",
    "    }\n",
    "\n",
    "\n",
    "responses = [\n",
    "        (r'Hi', \"Hello! I'm a movie recommendation chatbot. What kind of movie are you in the mood for today?\"),\n",
    "        (r'(.*)?recommend(.*)?', \"Of course! What genre are you interested in? We have action, comedy, horror, sci-fi, romance, drama, fantasy, thriller, animation, and documentary.\"),\n",
    "        (r'(.*)?action(.*)?',lambda: f\"You might enjoy {random.choice(genres['action'])}. Do you want another recommendation?\"),\n",
    "        (r'(.*)?comedy(.*)?',lambda: f\"{random.choice(genres['comedy'])} will make you laugh. Do you want another recommendation?\"),\n",
    "        (r'(.*)?horror(.*)?',lambda: f\"This movie might give you chills: {random.choice(genres['horror'])}. Do you want another recommendation?\"),\n",
    "        (r'(.*)?sci[- ]?fi(.*)?',lambda: f\"Try this futuristic adventure movie: {random.choice(genres['sci-fi'])}. Do you want another recommendation?\"),\n",
    "        (r'(.*)?romance(.*)?',lambda: f\"Love is in the air with {random.choice(genres['romance'])}. Do you want another recommendation?\"),\n",
    "        (r'(.*)?drama(.*)?',lambda: f\"Get ready for an emotional ride with: {random.choice(genres['drama'])}. Do you want another recommendation?\"),\n",
    "        (r'(.*)?fantasy(.*)?',lambda: f\"Escape into these magical world with {random.choice(genres['fantasy'])}.  Do you want another recommendation?\"),\n",
    "        (r'(.*)?thriller(.*)?',lambda: f\"This will keep you on the edge of your seat: {random.choice(genres['thriller'])}.  Do you want another recommendation?\"),\n",
    "        (r'(.*)?animation(.*)?',lambda: f\"Animation lovers, here you go: {random.choice(genres['animation'])}.  Do you want another recommendation?\"),\n",
    "        (r'(.*)?documentary(.*)?',lambda: f\"Expand your knowledge with this documentary: {random.choice(genres['documentary'])}.  Do you want another recommendation?\"),\n",
    "        (r'(.*)?thank(.*)?', \"You're welcome! Enjoy your movie! If you need more suggestions, just ask!\"),\n",
    "        (r'(.*)?bye(.*)?', \"Goodbye! Happy watching! Come back anytime for more movie recommendations!\"),\n",
    "        (r'(.*)', \"I'm not sure I understand. Can you tell me what genre you're interested in or ask for recommendations?\")\n",
    "    ]"
   ]
  },
  {
   "cell_type": "code",
   "execution_count": null,
   "metadata": {},
   "outputs": [],
   "source": [
    "def elizaResponse(userInput):\n",
    "    for (pattern, response) in responses:\n",
    "        if (re.match(pattern, userInput.lower())):\n",
    "            if callable(response):\n",
    "                return response()\n",
    "            else:\n",
    "                return response\n",
    "    return \"I can't understand what you are saying, try saying again using proper words.\""
   ]
  },
  {
   "cell_type": "code",
   "execution_count": null,
   "metadata": {},
   "outputs": [
    {
     "data": {
      "text/plain": [
       "Ryan Gosling: Hi! hi, nice to meet you!\n",
       "Ryan Gosling: Monty Python and the Holy Grail will make you laugh. Do you want another recommendation?\n",
       "Ryan Gosling: Of course! What genre are you interested in? We have action, comedy, horror, sci-fi, romance, drama, fantasy, thriller, animation, and documentary.\n",
       "Ryan Gosling: Step Brothers will make you laugh. Do you want another recommendation?\n",
       "Ryan Gosling: Goodbye! I hope you got some good movies to watch tonight!\n"
      ]
     },
     "metadata": {},
     "output_type": "display_data"
    }
   ],
   "source": [
    "botName = \"Ryan Gosling\"\n",
    "userName = input(f\"{botName}: Hi! I'm {botName}, your movie recommendation chatbot, what's your name?\")\n",
    "print(f\"{botName}: Hi! {userName}, nice to meet you!\")\n",
    "\n",
    "while(True):\n",
    "    userInput = input(f\"{userName}: \")\n",
    "    if \"bye\" in userInput:\n",
    "        print(f\"{botName}: Goodbye! I hope you got some good movies to watch tonight!\")\n",
    "        break\n",
    "    response = elizaResponse(userInput)\n",
    "    print(f\"{botName}: {response}\")\n",
    "\n",
    "    "
   ]
  }
 ],
 "metadata": {
  "language_info": {
   "name": "python"
  }
 },
 "nbformat": 4,
 "nbformat_minor": 2
}
